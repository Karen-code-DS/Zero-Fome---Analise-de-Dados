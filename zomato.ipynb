{
 "cells": [
  {
   "cell_type": "markdown",
   "id": "1b439c62-cf40-4aaa-95f8-81926ec6329e",
   "metadata": {},
   "source": [
    "# LIMPEZA E MANIPULAÇÃO DOS DADOS"
   ]
  },
  {
   "cell_type": "code",
   "execution_count": 1,
   "id": "f7f3716e-f66e-497f-b022-f2a3e8111f0b",
   "metadata": {},
   "outputs": [],
   "source": [
    "import pandas as pd\n",
    "import numpy as np"
   ]
  },
  {
   "cell_type": "code",
   "execution_count": 2,
   "id": "9e7a6ccb-6a8e-4fa0-b5ef-6d04546c91d8",
   "metadata": {},
   "outputs": [],
   "source": [
    "df = pd.read_csv('zomato.csv')"
   ]
  },
  {
   "cell_type": "code",
   "execution_count": 4,
   "id": "522c3bd7-3935-42f6-b470-6063fcf112d9",
   "metadata": {},
   "outputs": [
    {
     "data": {
      "text/plain": [
       "Index(['Restaurant ID', 'Restaurant Name', 'Country Code', 'City', 'Address',\n",
       "       'Locality', 'Locality Verbose', 'Longitude', 'Latitude', 'Cuisines',\n",
       "       'Average Cost for two', 'Currency', 'Has Table booking',\n",
       "       'Has Online delivery', 'Is delivering now', 'Switch to order menu',\n",
       "       'Price range', 'Aggregate rating', 'Rating color', 'Rating text',\n",
       "       'Votes'],\n",
       "      dtype='object')"
      ]
     },
     "execution_count": 4,
     "metadata": {},
     "output_type": "execute_result"
    }
   ],
   "source": [
    "df.columns"
   ]
  },
  {
   "cell_type": "code",
   "execution_count": 4,
   "id": "d818ba54-3385-48f0-be4a-0228ff598e76",
   "metadata": {},
   "outputs": [],
   "source": [
    "df_limpo = df.copy()"
   ]
  },
  {
   "cell_type": "code",
   "execution_count": 56,
   "id": "47bcaeac-b5ce-494d-88d8-9381c5e2c5c7",
   "metadata": {},
   "outputs": [
    {
     "data": {
      "text/html": [
       "<div>\n",
       "<style scoped>\n",
       "    .dataframe tbody tr th:only-of-type {\n",
       "        vertical-align: middle;\n",
       "    }\n",
       "\n",
       "    .dataframe tbody tr th {\n",
       "        vertical-align: top;\n",
       "    }\n",
       "\n",
       "    .dataframe thead th {\n",
       "        text-align: right;\n",
       "    }\n",
       "</style>\n",
       "<table border=\"1\" class=\"dataframe\">\n",
       "  <thead>\n",
       "    <tr style=\"text-align: right;\">\n",
       "      <th></th>\n",
       "      <th>Restaurant ID</th>\n",
       "      <th>Restaurant Name</th>\n",
       "      <th>Country Code</th>\n",
       "      <th>City</th>\n",
       "      <th>Address</th>\n",
       "      <th>Locality</th>\n",
       "      <th>Locality Verbose</th>\n",
       "      <th>Longitude</th>\n",
       "      <th>Latitude</th>\n",
       "      <th>Cuisines</th>\n",
       "      <th>...</th>\n",
       "      <th>Has Table booking</th>\n",
       "      <th>Has Online delivery</th>\n",
       "      <th>Is delivering now</th>\n",
       "      <th>Switch to order menu</th>\n",
       "      <th>Price range</th>\n",
       "      <th>Aggregate rating</th>\n",
       "      <th>Rating color</th>\n",
       "      <th>Rating text</th>\n",
       "      <th>Votes</th>\n",
       "      <th>Country</th>\n",
       "    </tr>\n",
       "  </thead>\n",
       "  <tbody>\n",
       "    <tr>\n",
       "      <th>0</th>\n",
       "      <td>6310675</td>\n",
       "      <td>Mama Lou's Italian Kitchen</td>\n",
       "      <td>162</td>\n",
       "      <td>Las Piñas City</td>\n",
       "      <td>Block 1, Lot 36, Tropical Avenue Corner Tropic...</td>\n",
       "      <td>BF International</td>\n",
       "      <td>BF International, Las Piñas City</td>\n",
       "      <td>121.009787</td>\n",
       "      <td>14.447615</td>\n",
       "      <td>Italian</td>\n",
       "      <td>...</td>\n",
       "      <td>1</td>\n",
       "      <td>0</td>\n",
       "      <td>0</td>\n",
       "      <td>0</td>\n",
       "      <td>3</td>\n",
       "      <td>4.6</td>\n",
       "      <td>3F7E00</td>\n",
       "      <td>Excellent</td>\n",
       "      <td>619</td>\n",
       "      <td>Philippines</td>\n",
       "    </tr>\n",
       "    <tr>\n",
       "      <th>1</th>\n",
       "      <td>6310675</td>\n",
       "      <td>Mama Lou's Italian Kitchen</td>\n",
       "      <td>162</td>\n",
       "      <td>Las Piñas City</td>\n",
       "      <td>Block 1, Lot 36, Tropical Avenue Corner Tropic...</td>\n",
       "      <td>BF International</td>\n",
       "      <td>BF International, Las Piñas City</td>\n",
       "      <td>121.009787</td>\n",
       "      <td>14.447615</td>\n",
       "      <td>Italian</td>\n",
       "      <td>...</td>\n",
       "      <td>1</td>\n",
       "      <td>0</td>\n",
       "      <td>0</td>\n",
       "      <td>0</td>\n",
       "      <td>3</td>\n",
       "      <td>4.6</td>\n",
       "      <td>3F7E00</td>\n",
       "      <td>Excellent</td>\n",
       "      <td>619</td>\n",
       "      <td>Philippines</td>\n",
       "    </tr>\n",
       "    <tr>\n",
       "      <th>2</th>\n",
       "      <td>6314542</td>\n",
       "      <td>Blackbird</td>\n",
       "      <td>162</td>\n",
       "      <td>Makati City</td>\n",
       "      <td>Nielson Tower, Ayala Triangle Gardens, Salcedo...</td>\n",
       "      <td>Ayala Triangle Gardens, Salcedo Village, Makat...</td>\n",
       "      <td>Ayala Triangle Gardens, Salcedo Village, Makat...</td>\n",
       "      <td>121.024562</td>\n",
       "      <td>14.556042</td>\n",
       "      <td>European, Asian</td>\n",
       "      <td>...</td>\n",
       "      <td>0</td>\n",
       "      <td>0</td>\n",
       "      <td>0</td>\n",
       "      <td>0</td>\n",
       "      <td>4</td>\n",
       "      <td>4.7</td>\n",
       "      <td>3F7E00</td>\n",
       "      <td>Excellent</td>\n",
       "      <td>469</td>\n",
       "      <td>Philippines</td>\n",
       "    </tr>\n",
       "    <tr>\n",
       "      <th>3</th>\n",
       "      <td>6301293</td>\n",
       "      <td>Banapple</td>\n",
       "      <td>162</td>\n",
       "      <td>Makati City</td>\n",
       "      <td>Ayala Triangle Gardens, Salcedo Village, Makat...</td>\n",
       "      <td>Ayala Triangle Gardens, Salcedo Village, Makat...</td>\n",
       "      <td>Ayala Triangle Gardens, Salcedo Village, Makat...</td>\n",
       "      <td>121.023171</td>\n",
       "      <td>14.556196</td>\n",
       "      <td>Filipino, American, Italian, Bakery</td>\n",
       "      <td>...</td>\n",
       "      <td>0</td>\n",
       "      <td>0</td>\n",
       "      <td>0</td>\n",
       "      <td>0</td>\n",
       "      <td>3</td>\n",
       "      <td>4.4</td>\n",
       "      <td>5BA829</td>\n",
       "      <td>Very Good</td>\n",
       "      <td>867</td>\n",
       "      <td>Philippines</td>\n",
       "    </tr>\n",
       "    <tr>\n",
       "      <th>4</th>\n",
       "      <td>6315689</td>\n",
       "      <td>Bad Bird</td>\n",
       "      <td>162</td>\n",
       "      <td>Makati City</td>\n",
       "      <td>Hole In The Wall, Floor 4, Century City Mall, ...</td>\n",
       "      <td>Century City Mall, Poblacion, Makati City</td>\n",
       "      <td>Century City Mall, Poblacion, Makati City, Mak...</td>\n",
       "      <td>121.027708</td>\n",
       "      <td>14.565899</td>\n",
       "      <td>American</td>\n",
       "      <td>...</td>\n",
       "      <td>0</td>\n",
       "      <td>0</td>\n",
       "      <td>0</td>\n",
       "      <td>0</td>\n",
       "      <td>3</td>\n",
       "      <td>4.4</td>\n",
       "      <td>5BA829</td>\n",
       "      <td>Very Good</td>\n",
       "      <td>858</td>\n",
       "      <td>Philippines</td>\n",
       "    </tr>\n",
       "    <tr>\n",
       "      <th>...</th>\n",
       "      <td>...</td>\n",
       "      <td>...</td>\n",
       "      <td>...</td>\n",
       "      <td>...</td>\n",
       "      <td>...</td>\n",
       "      <td>...</td>\n",
       "      <td>...</td>\n",
       "      <td>...</td>\n",
       "      <td>...</td>\n",
       "      <td>...</td>\n",
       "      <td>...</td>\n",
       "      <td>...</td>\n",
       "      <td>...</td>\n",
       "      <td>...</td>\n",
       "      <td>...</td>\n",
       "      <td>...</td>\n",
       "      <td>...</td>\n",
       "      <td>...</td>\n",
       "      <td>...</td>\n",
       "      <td>...</td>\n",
       "      <td>...</td>\n",
       "    </tr>\n",
       "    <tr>\n",
       "      <th>7522</th>\n",
       "      <td>5912546</td>\n",
       "      <td>Eataly</td>\n",
       "      <td>208</td>\n",
       "      <td>İstanbul</td>\n",
       "      <td>Zorlu Center AVM, Köprü Katı, Levazım Mahalles...</td>\n",
       "      <td>Zorlu Center AVM, Levazım, Beşiktaş</td>\n",
       "      <td>Zorlu Center AVM, Levazım, Beşiktaş, İstanbul</td>\n",
       "      <td>29.017326</td>\n",
       "      <td>41.065322</td>\n",
       "      <td>Italian, Pizza, Fresh Fish</td>\n",
       "      <td>...</td>\n",
       "      <td>0</td>\n",
       "      <td>0</td>\n",
       "      <td>0</td>\n",
       "      <td>0</td>\n",
       "      <td>4</td>\n",
       "      <td>4.3</td>\n",
       "      <td>5BA829</td>\n",
       "      <td>Very Good</td>\n",
       "      <td>1367</td>\n",
       "      <td>Turkey</td>\n",
       "    </tr>\n",
       "    <tr>\n",
       "      <th>7523</th>\n",
       "      <td>5913006</td>\n",
       "      <td>Tarihi Çınaraltı Aile Çay Bahçesi</td>\n",
       "      <td>208</td>\n",
       "      <td>İstanbul</td>\n",
       "      <td>Çengelköy Mahallesi, Çınaraltı Camii Sokak, No...</td>\n",
       "      <td>Çengelköy Merkez</td>\n",
       "      <td>Çengelköy Merkez, İstanbul</td>\n",
       "      <td>29.052620</td>\n",
       "      <td>41.050280</td>\n",
       "      <td>Fast Food, Izgara, Seafood, Tea, Coffee</td>\n",
       "      <td>...</td>\n",
       "      <td>0</td>\n",
       "      <td>0</td>\n",
       "      <td>0</td>\n",
       "      <td>0</td>\n",
       "      <td>2</td>\n",
       "      <td>4.5</td>\n",
       "      <td>3F7E00</td>\n",
       "      <td>Excellent</td>\n",
       "      <td>1172</td>\n",
       "      <td>Turkey</td>\n",
       "    </tr>\n",
       "    <tr>\n",
       "      <th>7524</th>\n",
       "      <td>5923535</td>\n",
       "      <td>Boon Cafe &amp; Restaurant</td>\n",
       "      <td>208</td>\n",
       "      <td>İstanbul</td>\n",
       "      <td>Çengelköy Mahallesi, Çengelköy Caddesi, Kara S...</td>\n",
       "      <td>Çengelköy Merkez</td>\n",
       "      <td>Çengelköy Merkez, İstanbul</td>\n",
       "      <td>29.052623</td>\n",
       "      <td>41.050717</td>\n",
       "      <td>Restaurant Cafe</td>\n",
       "      <td>...</td>\n",
       "      <td>0</td>\n",
       "      <td>0</td>\n",
       "      <td>0</td>\n",
       "      <td>0</td>\n",
       "      <td>4</td>\n",
       "      <td>4.2</td>\n",
       "      <td>5BA829</td>\n",
       "      <td>Very Good</td>\n",
       "      <td>1160</td>\n",
       "      <td>Turkey</td>\n",
       "    </tr>\n",
       "    <tr>\n",
       "      <th>7525</th>\n",
       "      <td>5914190</td>\n",
       "      <td>Kanaat Lokantası</td>\n",
       "      <td>208</td>\n",
       "      <td>İstanbul</td>\n",
       "      <td>Sultantepe Mahallesi, Selmani Pak Caddesi, No ...</td>\n",
       "      <td>Üsküdar Merkez</td>\n",
       "      <td>Üsküdar Merkez, İstanbul</td>\n",
       "      <td>29.016590</td>\n",
       "      <td>41.025741</td>\n",
       "      <td>Home-made, Izgara</td>\n",
       "      <td>...</td>\n",
       "      <td>0</td>\n",
       "      <td>0</td>\n",
       "      <td>0</td>\n",
       "      <td>0</td>\n",
       "      <td>3</td>\n",
       "      <td>4.0</td>\n",
       "      <td>5BA829</td>\n",
       "      <td>Very Good</td>\n",
       "      <td>770</td>\n",
       "      <td>Turkey</td>\n",
       "    </tr>\n",
       "    <tr>\n",
       "      <th>7526</th>\n",
       "      <td>5913508</td>\n",
       "      <td>Katibim</td>\n",
       "      <td>208</td>\n",
       "      <td>İstanbul</td>\n",
       "      <td>Mimar Sinan Mahallesi, Harem Sahilyolu, No 53,...</td>\n",
       "      <td>Üsküdar Merkez</td>\n",
       "      <td>Üsküdar Merkez, İstanbul</td>\n",
       "      <td>29.010808</td>\n",
       "      <td>41.025501</td>\n",
       "      <td>Restaurant Cafe, Kebab, Turkish Pizza</td>\n",
       "      <td>...</td>\n",
       "      <td>0</td>\n",
       "      <td>0</td>\n",
       "      <td>0</td>\n",
       "      <td>0</td>\n",
       "      <td>4</td>\n",
       "      <td>4.2</td>\n",
       "      <td>5BA829</td>\n",
       "      <td>Very Good</td>\n",
       "      <td>1141</td>\n",
       "      <td>Turkey</td>\n",
       "    </tr>\n",
       "  </tbody>\n",
       "</table>\n",
       "<p>7527 rows × 22 columns</p>\n",
       "</div>"
      ],
      "text/plain": [
       "      Restaurant ID                    Restaurant Name  Country Code  \\\n",
       "0           6310675         Mama Lou's Italian Kitchen           162   \n",
       "1           6310675         Mama Lou's Italian Kitchen           162   \n",
       "2           6314542                          Blackbird           162   \n",
       "3           6301293                           Banapple           162   \n",
       "4           6315689                           Bad Bird           162   \n",
       "...             ...                                ...           ...   \n",
       "7522        5912546                             Eataly           208   \n",
       "7523        5913006  Tarihi Çınaraltı Aile Çay Bahçesi           208   \n",
       "7524        5923535             Boon Cafe & Restaurant           208   \n",
       "7525        5914190                   Kanaat Lokantası           208   \n",
       "7526        5913508                            Katibim           208   \n",
       "\n",
       "                City                                            Address  \\\n",
       "0     Las Piñas City  Block 1, Lot 36, Tropical Avenue Corner Tropic...   \n",
       "1     Las Piñas City  Block 1, Lot 36, Tropical Avenue Corner Tropic...   \n",
       "2        Makati City  Nielson Tower, Ayala Triangle Gardens, Salcedo...   \n",
       "3        Makati City  Ayala Triangle Gardens, Salcedo Village, Makat...   \n",
       "4        Makati City  Hole In The Wall, Floor 4, Century City Mall, ...   \n",
       "...              ...                                                ...   \n",
       "7522        İstanbul  Zorlu Center AVM, Köprü Katı, Levazım Mahalles...   \n",
       "7523        İstanbul  Çengelköy Mahallesi, Çınaraltı Camii Sokak, No...   \n",
       "7524        İstanbul  Çengelköy Mahallesi, Çengelköy Caddesi, Kara S...   \n",
       "7525        İstanbul  Sultantepe Mahallesi, Selmani Pak Caddesi, No ...   \n",
       "7526        İstanbul  Mimar Sinan Mahallesi, Harem Sahilyolu, No 53,...   \n",
       "\n",
       "                                               Locality  \\\n",
       "0                                      BF International   \n",
       "1                                      BF International   \n",
       "2     Ayala Triangle Gardens, Salcedo Village, Makat...   \n",
       "3     Ayala Triangle Gardens, Salcedo Village, Makat...   \n",
       "4             Century City Mall, Poblacion, Makati City   \n",
       "...                                                 ...   \n",
       "7522                Zorlu Center AVM, Levazım, Beşiktaş   \n",
       "7523                                   Çengelköy Merkez   \n",
       "7524                                   Çengelköy Merkez   \n",
       "7525                                     Üsküdar Merkez   \n",
       "7526                                     Üsküdar Merkez   \n",
       "\n",
       "                                       Locality Verbose   Longitude  \\\n",
       "0                      BF International, Las Piñas City  121.009787   \n",
       "1                      BF International, Las Piñas City  121.009787   \n",
       "2     Ayala Triangle Gardens, Salcedo Village, Makat...  121.024562   \n",
       "3     Ayala Triangle Gardens, Salcedo Village, Makat...  121.023171   \n",
       "4     Century City Mall, Poblacion, Makati City, Mak...  121.027708   \n",
       "...                                                 ...         ...   \n",
       "7522      Zorlu Center AVM, Levazım, Beşiktaş, İstanbul   29.017326   \n",
       "7523                         Çengelköy Merkez, İstanbul   29.052620   \n",
       "7524                         Çengelköy Merkez, İstanbul   29.052623   \n",
       "7525                           Üsküdar Merkez, İstanbul   29.016590   \n",
       "7526                           Üsküdar Merkez, İstanbul   29.010808   \n",
       "\n",
       "       Latitude                                 Cuisines  ...  \\\n",
       "0     14.447615                                  Italian  ...   \n",
       "1     14.447615                                  Italian  ...   \n",
       "2     14.556042                          European, Asian  ...   \n",
       "3     14.556196      Filipino, American, Italian, Bakery  ...   \n",
       "4     14.565899                                 American  ...   \n",
       "...         ...                                      ...  ...   \n",
       "7522  41.065322               Italian, Pizza, Fresh Fish  ...   \n",
       "7523  41.050280  Fast Food, Izgara, Seafood, Tea, Coffee  ...   \n",
       "7524  41.050717                          Restaurant Cafe  ...   \n",
       "7525  41.025741                        Home-made, Izgara  ...   \n",
       "7526  41.025501    Restaurant Cafe, Kebab, Turkish Pizza  ...   \n",
       "\n",
       "      Has Table booking Has Online delivery  Is delivering now  \\\n",
       "0                     1                   0                  0   \n",
       "1                     1                   0                  0   \n",
       "2                     0                   0                  0   \n",
       "3                     0                   0                  0   \n",
       "4                     0                   0                  0   \n",
       "...                 ...                 ...                ...   \n",
       "7522                  0                   0                  0   \n",
       "7523                  0                   0                  0   \n",
       "7524                  0                   0                  0   \n",
       "7525                  0                   0                  0   \n",
       "7526                  0                   0                  0   \n",
       "\n",
       "      Switch to order menu  Price range  Aggregate rating  Rating color  \\\n",
       "0                        0            3               4.6        3F7E00   \n",
       "1                        0            3               4.6        3F7E00   \n",
       "2                        0            4               4.7        3F7E00   \n",
       "3                        0            3               4.4        5BA829   \n",
       "4                        0            3               4.4        5BA829   \n",
       "...                    ...          ...               ...           ...   \n",
       "7522                     0            4               4.3        5BA829   \n",
       "7523                     0            2               4.5        3F7E00   \n",
       "7524                     0            4               4.2        5BA829   \n",
       "7525                     0            3               4.0        5BA829   \n",
       "7526                     0            4               4.2        5BA829   \n",
       "\n",
       "      Rating text Votes      Country  \n",
       "0       Excellent   619  Philippines  \n",
       "1       Excellent   619  Philippines  \n",
       "2       Excellent   469  Philippines  \n",
       "3       Very Good   867  Philippines  \n",
       "4       Very Good   858  Philippines  \n",
       "...           ...   ...          ...  \n",
       "7522    Very Good  1367       Turkey  \n",
       "7523    Excellent  1172       Turkey  \n",
       "7524    Very Good  1160       Turkey  \n",
       "7525    Very Good   770       Turkey  \n",
       "7526    Very Good  1141       Turkey  \n",
       "\n",
       "[7527 rows x 22 columns]"
      ]
     },
     "execution_count": 56,
     "metadata": {},
     "output_type": "execute_result"
    }
   ],
   "source": [
    "    # Dicionário completo de mapeamento Country Code -> Country Name\n",
    "    mapeamento_paises = {\n",
    "        1: 'India',\n",
    "        14: 'Australia', \n",
    "        30: 'Brazil',\n",
    "        37: 'Canada',\n",
    "        94: 'Indonesia',\n",
    "        148: 'New Zealand',\n",
    "        162: 'Philippines',\n",
    "        166: 'Qatar',\n",
    "        184: 'Singapore',\n",
    "        189: 'South Africa',\n",
    "        191: 'Sri Lanka',\n",
    "        208: 'Turkey',\n",
    "        214: 'United Arab Emirates',\n",
    "        215: 'United Kingdom',\n",
    "        216: 'United States',\n",
    "        356: 'India'  # Código alternativo para India\n",
    "    }\n",
    "\n",
    "    # inserindo uma nova coluna com os nomes dos países\n",
    "    df_limpo['Country'] = df_limpo['Country Code'].map(mapeamento_paises)\n",
    "df_limpo"
   ]
  },
  {
   "cell_type": "code",
   "execution_count": 6,
   "id": "0e80826e-5f5c-4845-8898-45af92bdfe62",
   "metadata": {},
   "outputs": [],
   "source": [
    "def limpeza_dados(df):\n",
    "      \n",
    "    # # Antes de remover NaN\n",
    "    # print(\"ANTES da remoção:\")\n",
    "    # print(f\"Total de NaN: {df.isna().sum().sum()}\")\n",
    "    # print(f\"Linhas com pelo menos 1 NaN: {df.isna().any(axis=1).sum()}\")\n",
    "    # print(f\"Linhas totais: {len(df)}\")\n",
    "        \n",
    "    # Remover NaN\n",
    "    df_limpo = df_limpo.dropna()\n",
    "\n",
    "    # # Depois de remover NaN --> Teste\n",
    "    # print(\"\\nDEPOIS da remoção:\")\n",
    "    # print(f\"Total de NaN: {df_limpo.isna().sum().sum()}\")\n",
    "    # print(f\"Linhas com pelo menos 1 NaN: {df_limpo.isna().any(axis=1).sum()}\")\n",
    "    # print(f\"Linhas totais: {len(df_limpo)}\")\n",
    "    # print(f\"Linhas removidas: {len(df) - len(df_limpo)}\")\n",
    "    \n",
    "    # Remover os espaços \n",
    "    df_limpo = df_limpo.apply(lambda x: x.str.strip() if x.dtype == 'object' else x)\n",
    "\n",
    "    # Converter object para string\n",
    "    coluna = ['Restaurant Name', 'City', 'Address', 'Locality', 'Locality Verbose', 'Cuisines', 'Currency', 'Rating color', 'Rating text']\n",
    "    colunas_existentes = [col for col in coluna if col in df_limpo.columns]\n",
    "    \n",
    "    for coluna in colunas_existentes:\n",
    "        if coluna in df_limpo.columns:\n",
    "            df_limpo[coluna] = df_limpo[coluna].astype(str).str.strip()\n",
    "         \n",
    "    return df_limpo"
   ]
  },
  {
   "cell_type": "code",
   "execution_count": 7,
   "id": "28d9f3aa-4de5-47d4-9b3d-b5ab91860e97",
   "metadata": {},
   "outputs": [],
   "source": [
    "def creat_price_type(price_range):\n",
    "    if price_range == 1:\n",
    "        return \"cheap\"\n",
    "    elif price_range == 2:\n",
    "        return \"normal\"\n",
    "    elif price_range == 3:\n",
    "        return 'expensive'\n",
    "    else:\n",
    "        return 'gourmet'"
   ]
  },
  {
   "cell_type": "code",
   "execution_count": 8,
   "id": "53b829fe-fa8a-4e43-b71c-4b2575d0cf50",
   "metadata": {},
   "outputs": [],
   "source": [
    "COLORS = {\n",
    "    \"3F7E00\": \"darkgreen\",\n",
    "    \"5BA829\": \"green\",\n",
    "    \"9ACD32\": \"lightgreen\",\n",
    "    \"CDD614\": \"orange\",\n",
    "    \"FFBA00\": \"red\",\n",
    "    \"CBCBC8\": \"darkred\",\n",
    "    \"FF7800\": \"darkred\",\n",
    "}\n",
    "def color_name(color_code):\n",
    "    return COLORS[color_code]"
   ]
  },
  {
   "cell_type": "code",
   "execution_count": 9,
   "id": "74f3ab62-9d33-4e4e-8204-00269a15d19f",
   "metadata": {},
   "outputs": [
    {
     "data": {
      "text/html": [
       "<div>\n",
       "<style scoped>\n",
       "    .dataframe tbody tr th:only-of-type {\n",
       "        vertical-align: middle;\n",
       "    }\n",
       "\n",
       "    .dataframe tbody tr th {\n",
       "        vertical-align: top;\n",
       "    }\n",
       "\n",
       "    .dataframe thead th {\n",
       "        text-align: right;\n",
       "    }\n",
       "</style>\n",
       "<table border=\"1\" class=\"dataframe\">\n",
       "  <thead>\n",
       "    <tr style=\"text-align: right;\">\n",
       "      <th></th>\n",
       "      <th>Restaurant ID</th>\n",
       "      <th>Restaurant Name</th>\n",
       "      <th>Country Code</th>\n",
       "      <th>City</th>\n",
       "      <th>Address</th>\n",
       "      <th>Locality</th>\n",
       "      <th>Locality Verbose</th>\n",
       "      <th>Longitude</th>\n",
       "      <th>Latitude</th>\n",
       "      <th>Cuisines</th>\n",
       "      <th>...</th>\n",
       "      <th>Has Table booking</th>\n",
       "      <th>Has Online delivery</th>\n",
       "      <th>Is delivering now</th>\n",
       "      <th>Switch to order menu</th>\n",
       "      <th>Price range</th>\n",
       "      <th>Aggregate rating</th>\n",
       "      <th>Rating color</th>\n",
       "      <th>Rating text</th>\n",
       "      <th>Votes</th>\n",
       "      <th>Country</th>\n",
       "    </tr>\n",
       "  </thead>\n",
       "  <tbody>\n",
       "    <tr>\n",
       "      <th>0</th>\n",
       "      <td>6310675</td>\n",
       "      <td>Mama Lou's Italian Kitchen</td>\n",
       "      <td>162</td>\n",
       "      <td>Las Piñas City</td>\n",
       "      <td>Block 1, Lot 36, Tropical Avenue Corner Tropic...</td>\n",
       "      <td>BF International</td>\n",
       "      <td>BF International, Las Piñas City</td>\n",
       "      <td>121.009787</td>\n",
       "      <td>14.447615</td>\n",
       "      <td>Italian</td>\n",
       "      <td>...</td>\n",
       "      <td>1</td>\n",
       "      <td>0</td>\n",
       "      <td>0</td>\n",
       "      <td>0</td>\n",
       "      <td>3</td>\n",
       "      <td>4.6</td>\n",
       "      <td>3F7E00</td>\n",
       "      <td>Excellent</td>\n",
       "      <td>619</td>\n",
       "      <td>Philippines</td>\n",
       "    </tr>\n",
       "    <tr>\n",
       "      <th>1</th>\n",
       "      <td>6310675</td>\n",
       "      <td>Mama Lou's Italian Kitchen</td>\n",
       "      <td>162</td>\n",
       "      <td>Las Piñas City</td>\n",
       "      <td>Block 1, Lot 36, Tropical Avenue Corner Tropic...</td>\n",
       "      <td>BF International</td>\n",
       "      <td>BF International, Las Piñas City</td>\n",
       "      <td>121.009787</td>\n",
       "      <td>14.447615</td>\n",
       "      <td>Italian</td>\n",
       "      <td>...</td>\n",
       "      <td>1</td>\n",
       "      <td>0</td>\n",
       "      <td>0</td>\n",
       "      <td>0</td>\n",
       "      <td>3</td>\n",
       "      <td>4.6</td>\n",
       "      <td>3F7E00</td>\n",
       "      <td>Excellent</td>\n",
       "      <td>619</td>\n",
       "      <td>Philippines</td>\n",
       "    </tr>\n",
       "    <tr>\n",
       "      <th>2</th>\n",
       "      <td>6314542</td>\n",
       "      <td>Blackbird</td>\n",
       "      <td>162</td>\n",
       "      <td>Makati City</td>\n",
       "      <td>Nielson Tower, Ayala Triangle Gardens, Salcedo...</td>\n",
       "      <td>Ayala Triangle Gardens, Salcedo Village, Makat...</td>\n",
       "      <td>Ayala Triangle Gardens, Salcedo Village, Makat...</td>\n",
       "      <td>121.024562</td>\n",
       "      <td>14.556042</td>\n",
       "      <td>European, Asian</td>\n",
       "      <td>...</td>\n",
       "      <td>0</td>\n",
       "      <td>0</td>\n",
       "      <td>0</td>\n",
       "      <td>0</td>\n",
       "      <td>4</td>\n",
       "      <td>4.7</td>\n",
       "      <td>3F7E00</td>\n",
       "      <td>Excellent</td>\n",
       "      <td>469</td>\n",
       "      <td>Philippines</td>\n",
       "    </tr>\n",
       "    <tr>\n",
       "      <th>3</th>\n",
       "      <td>6301293</td>\n",
       "      <td>Banapple</td>\n",
       "      <td>162</td>\n",
       "      <td>Makati City</td>\n",
       "      <td>Ayala Triangle Gardens, Salcedo Village, Makat...</td>\n",
       "      <td>Ayala Triangle Gardens, Salcedo Village, Makat...</td>\n",
       "      <td>Ayala Triangle Gardens, Salcedo Village, Makat...</td>\n",
       "      <td>121.023171</td>\n",
       "      <td>14.556196</td>\n",
       "      <td>Filipino, American, Italian, Bakery</td>\n",
       "      <td>...</td>\n",
       "      <td>0</td>\n",
       "      <td>0</td>\n",
       "      <td>0</td>\n",
       "      <td>0</td>\n",
       "      <td>3</td>\n",
       "      <td>4.4</td>\n",
       "      <td>5BA829</td>\n",
       "      <td>Very Good</td>\n",
       "      <td>867</td>\n",
       "      <td>Philippines</td>\n",
       "    </tr>\n",
       "    <tr>\n",
       "      <th>4</th>\n",
       "      <td>6315689</td>\n",
       "      <td>Bad Bird</td>\n",
       "      <td>162</td>\n",
       "      <td>Makati City</td>\n",
       "      <td>Hole In The Wall, Floor 4, Century City Mall, ...</td>\n",
       "      <td>Century City Mall, Poblacion, Makati City</td>\n",
       "      <td>Century City Mall, Poblacion, Makati City, Mak...</td>\n",
       "      <td>121.027708</td>\n",
       "      <td>14.565899</td>\n",
       "      <td>American</td>\n",
       "      <td>...</td>\n",
       "      <td>0</td>\n",
       "      <td>0</td>\n",
       "      <td>0</td>\n",
       "      <td>0</td>\n",
       "      <td>3</td>\n",
       "      <td>4.4</td>\n",
       "      <td>5BA829</td>\n",
       "      <td>Very Good</td>\n",
       "      <td>858</td>\n",
       "      <td>Philippines</td>\n",
       "    </tr>\n",
       "    <tr>\n",
       "      <th>...</th>\n",
       "      <td>...</td>\n",
       "      <td>...</td>\n",
       "      <td>...</td>\n",
       "      <td>...</td>\n",
       "      <td>...</td>\n",
       "      <td>...</td>\n",
       "      <td>...</td>\n",
       "      <td>...</td>\n",
       "      <td>...</td>\n",
       "      <td>...</td>\n",
       "      <td>...</td>\n",
       "      <td>...</td>\n",
       "      <td>...</td>\n",
       "      <td>...</td>\n",
       "      <td>...</td>\n",
       "      <td>...</td>\n",
       "      <td>...</td>\n",
       "      <td>...</td>\n",
       "      <td>...</td>\n",
       "      <td>...</td>\n",
       "      <td>...</td>\n",
       "    </tr>\n",
       "    <tr>\n",
       "      <th>7522</th>\n",
       "      <td>5912546</td>\n",
       "      <td>Eataly</td>\n",
       "      <td>208</td>\n",
       "      <td>İstanbul</td>\n",
       "      <td>Zorlu Center AVM, Köprü Katı, Levazım Mahalles...</td>\n",
       "      <td>Zorlu Center AVM, Levazım, Beşiktaş</td>\n",
       "      <td>Zorlu Center AVM, Levazım, Beşiktaş, İstanbul</td>\n",
       "      <td>29.017326</td>\n",
       "      <td>41.065322</td>\n",
       "      <td>Italian, Pizza, Fresh Fish</td>\n",
       "      <td>...</td>\n",
       "      <td>0</td>\n",
       "      <td>0</td>\n",
       "      <td>0</td>\n",
       "      <td>0</td>\n",
       "      <td>4</td>\n",
       "      <td>4.3</td>\n",
       "      <td>5BA829</td>\n",
       "      <td>Very Good</td>\n",
       "      <td>1367</td>\n",
       "      <td>Turkey</td>\n",
       "    </tr>\n",
       "    <tr>\n",
       "      <th>7523</th>\n",
       "      <td>5913006</td>\n",
       "      <td>Tarihi Çınaraltı Aile Çay Bahçesi</td>\n",
       "      <td>208</td>\n",
       "      <td>İstanbul</td>\n",
       "      <td>Çengelköy Mahallesi, Çınaraltı Camii Sokak, No...</td>\n",
       "      <td>Çengelköy Merkez</td>\n",
       "      <td>Çengelköy Merkez, İstanbul</td>\n",
       "      <td>29.052620</td>\n",
       "      <td>41.050280</td>\n",
       "      <td>Fast Food, Izgara, Seafood, Tea, Coffee</td>\n",
       "      <td>...</td>\n",
       "      <td>0</td>\n",
       "      <td>0</td>\n",
       "      <td>0</td>\n",
       "      <td>0</td>\n",
       "      <td>2</td>\n",
       "      <td>4.5</td>\n",
       "      <td>3F7E00</td>\n",
       "      <td>Excellent</td>\n",
       "      <td>1172</td>\n",
       "      <td>Turkey</td>\n",
       "    </tr>\n",
       "    <tr>\n",
       "      <th>7524</th>\n",
       "      <td>5923535</td>\n",
       "      <td>Boon Cafe &amp; Restaurant</td>\n",
       "      <td>208</td>\n",
       "      <td>İstanbul</td>\n",
       "      <td>Çengelköy Mahallesi, Çengelköy Caddesi, Kara S...</td>\n",
       "      <td>Çengelköy Merkez</td>\n",
       "      <td>Çengelköy Merkez, İstanbul</td>\n",
       "      <td>29.052623</td>\n",
       "      <td>41.050717</td>\n",
       "      <td>Restaurant Cafe</td>\n",
       "      <td>...</td>\n",
       "      <td>0</td>\n",
       "      <td>0</td>\n",
       "      <td>0</td>\n",
       "      <td>0</td>\n",
       "      <td>4</td>\n",
       "      <td>4.2</td>\n",
       "      <td>5BA829</td>\n",
       "      <td>Very Good</td>\n",
       "      <td>1160</td>\n",
       "      <td>Turkey</td>\n",
       "    </tr>\n",
       "    <tr>\n",
       "      <th>7525</th>\n",
       "      <td>5914190</td>\n",
       "      <td>Kanaat Lokantası</td>\n",
       "      <td>208</td>\n",
       "      <td>İstanbul</td>\n",
       "      <td>Sultantepe Mahallesi, Selmani Pak Caddesi, No ...</td>\n",
       "      <td>Üsküdar Merkez</td>\n",
       "      <td>Üsküdar Merkez, İstanbul</td>\n",
       "      <td>29.016590</td>\n",
       "      <td>41.025741</td>\n",
       "      <td>Home-made, Izgara</td>\n",
       "      <td>...</td>\n",
       "      <td>0</td>\n",
       "      <td>0</td>\n",
       "      <td>0</td>\n",
       "      <td>0</td>\n",
       "      <td>3</td>\n",
       "      <td>4.0</td>\n",
       "      <td>5BA829</td>\n",
       "      <td>Very Good</td>\n",
       "      <td>770</td>\n",
       "      <td>Turkey</td>\n",
       "    </tr>\n",
       "    <tr>\n",
       "      <th>7526</th>\n",
       "      <td>5913508</td>\n",
       "      <td>Katibim</td>\n",
       "      <td>208</td>\n",
       "      <td>İstanbul</td>\n",
       "      <td>Mimar Sinan Mahallesi, Harem Sahilyolu, No 53,...</td>\n",
       "      <td>Üsküdar Merkez</td>\n",
       "      <td>Üsküdar Merkez, İstanbul</td>\n",
       "      <td>29.010808</td>\n",
       "      <td>41.025501</td>\n",
       "      <td>Restaurant Cafe, Kebab, Turkish Pizza</td>\n",
       "      <td>...</td>\n",
       "      <td>0</td>\n",
       "      <td>0</td>\n",
       "      <td>0</td>\n",
       "      <td>0</td>\n",
       "      <td>4</td>\n",
       "      <td>4.2</td>\n",
       "      <td>5BA829</td>\n",
       "      <td>Very Good</td>\n",
       "      <td>1141</td>\n",
       "      <td>Turkey</td>\n",
       "    </tr>\n",
       "  </tbody>\n",
       "</table>\n",
       "<p>7527 rows × 22 columns</p>\n",
       "</div>"
      ],
      "text/plain": [
       "      Restaurant ID                    Restaurant Name  Country Code  \\\n",
       "0           6310675         Mama Lou's Italian Kitchen           162   \n",
       "1           6310675         Mama Lou's Italian Kitchen           162   \n",
       "2           6314542                          Blackbird           162   \n",
       "3           6301293                           Banapple           162   \n",
       "4           6315689                           Bad Bird           162   \n",
       "...             ...                                ...           ...   \n",
       "7522        5912546                             Eataly           208   \n",
       "7523        5913006  Tarihi Çınaraltı Aile Çay Bahçesi           208   \n",
       "7524        5923535             Boon Cafe & Restaurant           208   \n",
       "7525        5914190                   Kanaat Lokantası           208   \n",
       "7526        5913508                            Katibim           208   \n",
       "\n",
       "                City                                            Address  \\\n",
       "0     Las Piñas City  Block 1, Lot 36, Tropical Avenue Corner Tropic...   \n",
       "1     Las Piñas City  Block 1, Lot 36, Tropical Avenue Corner Tropic...   \n",
       "2        Makati City  Nielson Tower, Ayala Triangle Gardens, Salcedo...   \n",
       "3        Makati City  Ayala Triangle Gardens, Salcedo Village, Makat...   \n",
       "4        Makati City  Hole In The Wall, Floor 4, Century City Mall, ...   \n",
       "...              ...                                                ...   \n",
       "7522        İstanbul  Zorlu Center AVM, Köprü Katı, Levazım Mahalles...   \n",
       "7523        İstanbul  Çengelköy Mahallesi, Çınaraltı Camii Sokak, No...   \n",
       "7524        İstanbul  Çengelköy Mahallesi, Çengelköy Caddesi, Kara S...   \n",
       "7525        İstanbul  Sultantepe Mahallesi, Selmani Pak Caddesi, No ...   \n",
       "7526        İstanbul  Mimar Sinan Mahallesi, Harem Sahilyolu, No 53,...   \n",
       "\n",
       "                                               Locality  \\\n",
       "0                                      BF International   \n",
       "1                                      BF International   \n",
       "2     Ayala Triangle Gardens, Salcedo Village, Makat...   \n",
       "3     Ayala Triangle Gardens, Salcedo Village, Makat...   \n",
       "4             Century City Mall, Poblacion, Makati City   \n",
       "...                                                 ...   \n",
       "7522                Zorlu Center AVM, Levazım, Beşiktaş   \n",
       "7523                                   Çengelköy Merkez   \n",
       "7524                                   Çengelköy Merkez   \n",
       "7525                                     Üsküdar Merkez   \n",
       "7526                                     Üsküdar Merkez   \n",
       "\n",
       "                                       Locality Verbose   Longitude  \\\n",
       "0                      BF International, Las Piñas City  121.009787   \n",
       "1                      BF International, Las Piñas City  121.009787   \n",
       "2     Ayala Triangle Gardens, Salcedo Village, Makat...  121.024562   \n",
       "3     Ayala Triangle Gardens, Salcedo Village, Makat...  121.023171   \n",
       "4     Century City Mall, Poblacion, Makati City, Mak...  121.027708   \n",
       "...                                                 ...         ...   \n",
       "7522      Zorlu Center AVM, Levazım, Beşiktaş, İstanbul   29.017326   \n",
       "7523                         Çengelköy Merkez, İstanbul   29.052620   \n",
       "7524                         Çengelköy Merkez, İstanbul   29.052623   \n",
       "7525                           Üsküdar Merkez, İstanbul   29.016590   \n",
       "7526                           Üsküdar Merkez, İstanbul   29.010808   \n",
       "\n",
       "       Latitude                                 Cuisines  ...  \\\n",
       "0     14.447615                                  Italian  ...   \n",
       "1     14.447615                                  Italian  ...   \n",
       "2     14.556042                          European, Asian  ...   \n",
       "3     14.556196      Filipino, American, Italian, Bakery  ...   \n",
       "4     14.565899                                 American  ...   \n",
       "...         ...                                      ...  ...   \n",
       "7522  41.065322               Italian, Pizza, Fresh Fish  ...   \n",
       "7523  41.050280  Fast Food, Izgara, Seafood, Tea, Coffee  ...   \n",
       "7524  41.050717                          Restaurant Cafe  ...   \n",
       "7525  41.025741                        Home-made, Izgara  ...   \n",
       "7526  41.025501    Restaurant Cafe, Kebab, Turkish Pizza  ...   \n",
       "\n",
       "      Has Table booking Has Online delivery  Is delivering now  \\\n",
       "0                     1                   0                  0   \n",
       "1                     1                   0                  0   \n",
       "2                     0                   0                  0   \n",
       "3                     0                   0                  0   \n",
       "4                     0                   0                  0   \n",
       "...                 ...                 ...                ...   \n",
       "7522                  0                   0                  0   \n",
       "7523                  0                   0                  0   \n",
       "7524                  0                   0                  0   \n",
       "7525                  0                   0                  0   \n",
       "7526                  0                   0                  0   \n",
       "\n",
       "      Switch to order menu  Price range  Aggregate rating  Rating color  \\\n",
       "0                        0            3               4.6        3F7E00   \n",
       "1                        0            3               4.6        3F7E00   \n",
       "2                        0            4               4.7        3F7E00   \n",
       "3                        0            3               4.4        5BA829   \n",
       "4                        0            3               4.4        5BA829   \n",
       "...                    ...          ...               ...           ...   \n",
       "7522                     0            4               4.3        5BA829   \n",
       "7523                     0            2               4.5        3F7E00   \n",
       "7524                     0            4               4.2        5BA829   \n",
       "7525                     0            3               4.0        5BA829   \n",
       "7526                     0            4               4.2        5BA829   \n",
       "\n",
       "      Rating text Votes      Country  \n",
       "0       Excellent   619  Philippines  \n",
       "1       Excellent   619  Philippines  \n",
       "2       Excellent   469  Philippines  \n",
       "3       Very Good   867  Philippines  \n",
       "4       Very Good   858  Philippines  \n",
       "...           ...   ...          ...  \n",
       "7522    Very Good  1367       Turkey  \n",
       "7523    Excellent  1172       Turkey  \n",
       "7524    Very Good  1160       Turkey  \n",
       "7525    Very Good   770       Turkey  \n",
       "7526    Very Good  1141       Turkey  \n",
       "\n",
       "[7527 rows x 22 columns]"
      ]
     },
     "execution_count": 9,
     "metadata": {},
     "output_type": "execute_result"
    }
   ],
   "source": [
    "df_limpo"
   ]
  },
  {
   "cell_type": "markdown",
   "id": "168918d8-e0b0-4127-8090-dba72de6b7df",
   "metadata": {},
   "source": [
    "# GERAL"
   ]
  },
  {
   "cell_type": "markdown",
   "id": "59a356de-85ad-4798-a04d-b180f3035fa2",
   "metadata": {},
   "source": [
    "### 1. Quantos restaurantes únicos estão registrados?"
   ]
  },
  {
   "cell_type": "code",
   "execution_count": 10,
   "id": "c1ad8513-1379-4439-b528-10eb2fa27511",
   "metadata": {},
   "outputs": [
    {
     "name": "stdout",
     "output_type": "stream",
     "text": [
      "Número de restaurantes únicos: 5914\n"
     ]
    }
   ],
   "source": [
    "n_restaurante = df_limpo['Restaurant Name'].unique()\n",
    "rest_unico = len(n_restaurante)\n",
    "print(f'Número de restaurantes únicos: {rest_unico}')"
   ]
  },
  {
   "cell_type": "markdown",
   "id": "6b76da6e-fdef-4db7-9e16-188297571bdc",
   "metadata": {},
   "source": [
    "### 2. Quantos países únicos estão registrados?"
   ]
  },
  {
   "cell_type": "code",
   "execution_count": 11,
   "id": "47909805-90a5-4028-b940-6560647ba034",
   "metadata": {},
   "outputs": [
    {
     "name": "stdout",
     "output_type": "stream",
     "text": [
      "Número de países únicos: 15\n"
     ]
    }
   ],
   "source": [
    "n_pais = df_limpo['Country'].unique()\n",
    "pais_unico = len(n_pais)\n",
    "print(f'Número de países únicos: {pais_unico}')"
   ]
  },
  {
   "cell_type": "markdown",
   "id": "e2962322-9b89-4c17-a103-b5c8a5ec5fcd",
   "metadata": {},
   "source": [
    "### 3. Quantas cidades únicas estão registradas?"
   ]
  },
  {
   "cell_type": "code",
   "execution_count": 12,
   "id": "e895cded-8220-46e5-98cb-9fd4a631eec5",
   "metadata": {},
   "outputs": [
    {
     "name": "stdout",
     "output_type": "stream",
     "text": [
      "Número de cidades únicas: 125\n"
     ]
    }
   ],
   "source": [
    "n_cidade = df_limpo['City'].unique()\n",
    "cidade_unico = len(n_cidade)\n",
    "print(f'Número de cidades únicas: {cidade_unico}')"
   ]
  },
  {
   "cell_type": "markdown",
   "id": "e3e3bfc5-ee52-4cc6-bba1-afd61cde4569",
   "metadata": {},
   "source": [
    "### 4. Qual o total de avaliações feitas?"
   ]
  },
  {
   "cell_type": "code",
   "execution_count": 13,
   "id": "66a8268b-dace-46c7-b792-293e1b7cac00",
   "metadata": {},
   "outputs": [
    {
     "name": "stdout",
     "output_type": "stream",
     "text": [
      "Total de avaliações: 7527\n"
     ]
    }
   ],
   "source": [
    "n_aval = df_limpo['Aggregate rating'].count()\n",
    "print(f'Total de avaliações: {n_aval}')"
   ]
  },
  {
   "cell_type": "markdown",
   "id": "89eb9ae7-8435-41a7-b175-a07c1dfd1a29",
   "metadata": {},
   "source": [
    "### 5. Qual o total de tipos de culinária registrados?"
   ]
  },
  {
   "cell_type": "code",
   "execution_count": 14,
   "id": "1f6c985a-06d5-42fd-afce-6c45f0738d0d",
   "metadata": {},
   "outputs": [
    {
     "name": "stdout",
     "output_type": "stream",
     "text": [
      "Total de tipos de culinária: ['Italian' 'European, Asian' 'Filipino, American, Italian, Bakery' ...\n",
      " 'Fast Food, Izgara, Seafood, Tea, Coffee' 'Home-made, Izgara'\n",
      " 'Restaurant Cafe, Kebab, Turkish Pizza']\n"
     ]
    }
   ],
   "source": [
    "t_culinaria = df_limpo['Cuisines'].unique()\n",
    "print(f'Total de tipos de culinária: {t_culinaria}')"
   ]
  },
  {
   "cell_type": "code",
   "execution_count": 15,
   "id": "2f45a0c6-c40e-47f8-9ed5-36f82167aed2",
   "metadata": {},
   "outputs": [
    {
     "name": "stdout",
     "output_type": "stream",
     "text": [
      "Total de tipos de culinária: 2832\n"
     ]
    }
   ],
   "source": [
    "t_culinaria = df_limpo['Cuisines'].nunique()\n",
    "print(f'Total de tipos de culinária: {t_culinaria}')"
   ]
  },
  {
   "cell_type": "markdown",
   "id": "cc7a3062-4cca-4c16-b455-4b796f293054",
   "metadata": {},
   "source": [
    "# PAÍS"
   ]
  },
  {
   "cell_type": "markdown",
   "id": "caeea4da-4f2e-440d-86b2-393e7cb1d473",
   "metadata": {},
   "source": [
    "### 1. Qual o nome do país que possui mais cidades registradas?"
   ]
  },
  {
   "cell_type": "code",
   "execution_count": 16,
   "id": "7a695249-3e4c-46d1-9c88-d3f2babd3038",
   "metadata": {},
   "outputs": [
    {
     "data": {
      "text/plain": [
       "Country\n",
       "India    49\n",
       "Name: City, dtype: int64"
      ]
     },
     "execution_count": 16,
     "metadata": {},
     "output_type": "execute_result"
    }
   ],
   "source": [
    "cidade_pais = df_limpo.groupby('Country')['City'].nunique().sort_values(ascending=False).head(1)\n",
    "cidade_pais"
   ]
  },
  {
   "cell_type": "markdown",
   "id": "0ee3ae8c-1fca-41ed-90c1-a2b24722d104",
   "metadata": {},
   "source": [
    "### 2. Qual o nome do país que possui mais restaurantes registrados?"
   ]
  },
  {
   "cell_type": "code",
   "execution_count": 17,
   "id": "f7267aaf-7439-475e-8cb0-96305eb6b29a",
   "metadata": {},
   "outputs": [
    {
     "data": {
      "text/plain": [
       "Country\n",
       "India    3120\n",
       "Name: Restaurant ID, dtype: int64"
      ]
     },
     "execution_count": 17,
     "metadata": {},
     "output_type": "execute_result"
    }
   ],
   "source": [
    "restaurante_pais = df_limpo.groupby('Country')['Restaurant ID'].nunique().sort_values(ascending=False).head(1)\n",
    "restaurante_pais"
   ]
  },
  {
   "cell_type": "markdown",
   "id": "963fef56-9442-4074-8475-d0a29a9e93bc",
   "metadata": {},
   "source": [
    "### 3. Qual o nome do país que possui mais restaurantes com o nível de preço igual a registrados?"
   ]
  },
  {
   "cell_type": "code",
   "execution_count": 18,
   "id": "a2968024-eea9-4845-ad06-0afc86c6fca4",
   "metadata": {},
   "outputs": [
    {
     "data": {
      "text/plain": [
       "Country\n",
       "Australia    4\n",
       "Name: Price range, dtype: int64"
      ]
     },
     "execution_count": 18,
     "metadata": {},
     "output_type": "execute_result"
    }
   ],
   "source": [
    "preco = df_limpo.groupby('Country')['Price range'].nunique().sort_values(ascending=False).head(1)\n",
    "preco"
   ]
  },
  {
   "cell_type": "markdown",
   "id": "e40bbbe7-0caa-4c5e-ba4a-bf7337a67ec6",
   "metadata": {},
   "source": [
    "### 4. Qual o nome do país que possui a maior quantidade de tipos de culinária distintos?"
   ]
  },
  {
   "cell_type": "code",
   "execution_count": 19,
   "id": "594d2460-69c6-4c32-9560-bdc1dbfa6d94",
   "metadata": {},
   "outputs": [
    {
     "data": {
      "text/plain": [
       "Country\n",
       "India    3496\n",
       "Name: Cuisines, dtype: int64"
      ]
     },
     "execution_count": 19,
     "metadata": {},
     "output_type": "execute_result"
    }
   ],
   "source": [
    "pais_cozinha = df_limpo.groupby('Country')['Cuisines'].count().sort_values(ascending=False).head(1)\n",
    "pais_cozinha"
   ]
  },
  {
   "cell_type": "markdown",
   "id": "e9446d04-183a-4246-ad78-9a9b73094986",
   "metadata": {},
   "source": [
    "### 5. Qual o nome do país que possui a maior quantidade de avaliações feitas?"
   ]
  },
  {
   "cell_type": "code",
   "execution_count": 20,
   "id": "70f971fd-af32-48c8-85ee-05b2ef70f4fb",
   "metadata": {},
   "outputs": [
    {
     "data": {
      "text/plain": [
       "Country\n",
       "India    3507\n",
       "Name: Aggregate rating, dtype: int64"
      ]
     },
     "execution_count": 20,
     "metadata": {},
     "output_type": "execute_result"
    }
   ],
   "source": [
    "avaliacao_pais = df_limpo.groupby('Country')['Aggregate rating'].count().sort_values(ascending=False).head(1)\n",
    "avaliacao_pais"
   ]
  },
  {
   "cell_type": "markdown",
   "id": "8d96e846-a99b-4ec9-bfda-03170f368d4c",
   "metadata": {},
   "source": [
    "### 6. Qual o nome do país que possui a maior quantidade de restaurantes que fazem entrega?"
   ]
  },
  {
   "cell_type": "code",
   "execution_count": 21,
   "id": "07a179b1-9ec4-4908-bd41-6490f7c70416",
   "metadata": {},
   "outputs": [
    {
     "data": {
      "text/plain": [
       "Country\n",
       "India    2365\n",
       "dtype: int64"
      ]
     },
     "execution_count": 21,
     "metadata": {},
     "output_type": "execute_result"
    }
   ],
   "source": [
    "restaurante_entrega = df_limpo[df_limpo['Has Online delivery'] == 1]\n",
    "pais_entrega = restaurante_entrega.groupby(\"Country\").size().sort_values(ascending=False).head(1)\n",
    "pais_entrega"
   ]
  },
  {
   "cell_type": "markdown",
   "id": "65708b79-cb75-4571-9037-32ffe322effd",
   "metadata": {},
   "source": [
    "### 7. Qual o nome do país que possui a maior quantidade de restaurantes que aceitam reservas?"
   ]
  },
  {
   "cell_type": "code",
   "execution_count": 22,
   "id": "3e413bdb-7ccb-4169-98b7-883150c062b2",
   "metadata": {},
   "outputs": [
    {
     "data": {
      "text/plain": [
       "Country\n",
       "India    291\n",
       "dtype: int64"
      ]
     },
     "execution_count": 22,
     "metadata": {},
     "output_type": "execute_result"
    }
   ],
   "source": [
    "restaurante_reserva = df_limpo[df_limpo['Has Table booking'] == 1]\n",
    "pais_reserva = restaurante_reserva.groupby(\"Country\").size().sort_values(ascending=False).head(1)\n",
    "pais_reserva"
   ]
  },
  {
   "cell_type": "markdown",
   "id": "b43fc11d-5727-4b5d-83de-3bae6a4111b8",
   "metadata": {},
   "source": [
    "### 8. Qual o nome do país que possui, na média, a maior quantidade de avaliações registrada?"
   ]
  },
  {
   "cell_type": "code",
   "execution_count": 23,
   "id": "7007612d-fb7b-40c0-9379-f984c45f6378",
   "metadata": {},
   "outputs": [
    {
     "data": {
      "text/plain": [
       "Country\n",
       "Indonesia    1115.32\n",
       "Name: Votes, dtype: float64"
      ]
     },
     "execution_count": 23,
     "metadata": {},
     "output_type": "execute_result"
    }
   ],
   "source": [
    "pais_maior_avaliacao = df_limpo.groupby(\"Country\")['Votes'].mean().sort_values(ascending=False).head(1).round(2)\n",
    "pais_maior_avaliacao"
   ]
  },
  {
   "cell_type": "markdown",
   "id": "e447240a-7a9e-4d07-a810-0d40b0db804b",
   "metadata": {},
   "source": [
    "### 9. Qual o nome do país que possui, na média, a maior nota média registrada?"
   ]
  },
  {
   "cell_type": "code",
   "execution_count": 24,
   "id": "901341dd-f2db-4c8d-94c1-962438f33ce2",
   "metadata": {},
   "outputs": [
    {
     "data": {
      "text/plain": [
       "Country\n",
       "Indonesia    4.6\n",
       "Name: Aggregate rating, dtype: float64"
      ]
     },
     "execution_count": 24,
     "metadata": {},
     "output_type": "execute_result"
    }
   ],
   "source": [
    "pais_nota_maior = df_limpo.groupby(\"Country\")['Aggregate rating'].mean().sort_values(ascending=False).head(1).round(2)\n",
    "pais_nota_maior"
   ]
  },
  {
   "cell_type": "markdown",
   "id": "2ba0ed31-fe08-4708-a00a-779d4b3d222e",
   "metadata": {},
   "source": [
    "### 10. Qual o nome do país que possui, na média, a menor nota média registrada?"
   ]
  },
  {
   "cell_type": "code",
   "execution_count": 25,
   "id": "a778db81-2c52-4147-b30f-e061cf93e088",
   "metadata": {},
   "outputs": [
    {
     "data": {
      "text/plain": [
       "Country\n",
       "Brazil    3.35\n",
       "Name: Aggregate rating, dtype: float64"
      ]
     },
     "execution_count": 25,
     "metadata": {},
     "output_type": "execute_result"
    }
   ],
   "source": [
    "pais_nota_menor = df_limpo.groupby(\"Country\")['Aggregate rating'].mean().sort_values(ascending=True).head(1).round(2)\n",
    "pais_nota_menor"
   ]
  },
  {
   "cell_type": "markdown",
   "id": "e07bfb42-a2b8-4175-a9ed-ff2f3f23e482",
   "metadata": {},
   "source": [
    "### 11. Qual a média de preço de um prato para dois por país?"
   ]
  },
  {
   "cell_type": "code",
   "execution_count": 26,
   "id": "ea785289-7834-4bd2-8bff-c419dc79a82a",
   "metadata": {},
   "outputs": [
    {
     "data": {
      "text/plain": [
       "Country\n",
       "Indonesia    312682.93\n",
       "Name: Average Cost for two, dtype: float64"
      ]
     },
     "execution_count": 26,
     "metadata": {},
     "output_type": "execute_result"
    }
   ],
   "source": [
    "pais_preco2 = df_limpo.groupby(\"Country\")['Average Cost for two'].mean().sort_values(ascending=False).head(1).round(2)\n",
    "pais_preco2"
   ]
  },
  {
   "cell_type": "markdown",
   "id": "d075aa73-8e4a-4297-8c5f-d9e8ff6683f7",
   "metadata": {
    "jp-MarkdownHeadingCollapsed": true
   },
   "source": [
    "# CIDADE"
   ]
  },
  {
   "cell_type": "code",
   "execution_count": 54,
   "id": "3f4e446c-0a33-4360-bda6-494c862d4610",
   "metadata": {},
   "outputs": [
    {
     "data": {
      "text/plain": [
       "array(['Las Piñas City', 'Makati City', 'Mandaluyong City', 'Manila',\n",
       "       'Marikina City', 'Muntinlupa City', 'Pasay City', 'Pasig City',\n",
       "       'Quezon City', 'San Juan City', 'Tagaytay City', 'Taguig City',\n",
       "       'Brasília', 'Rio de Janeiro', 'São Paulo', 'Adelaide', 'Atlanta',\n",
       "       'Austin', 'Boston', 'Brisbane', 'Calgary', 'Charlotte', 'Chicago',\n",
       "       'Dallas', 'Denver', 'Detroit', 'Houston', 'Las Vegas',\n",
       "       'Los Angeles', 'Miami', 'Montreal', 'New Orleans', 'New York City',\n",
       "       'Ottawa', 'Perth', 'Philadelphia', 'Phoenix', 'Portland',\n",
       "       'San Antonio', 'San Diego', 'San Francisco', 'Seattle',\n",
       "       'Singapore', 'Washington DC', 'Abu Dhabi', 'Dubai', 'Fujairah',\n",
       "       'Sharjah', 'Agra', 'Ahmedabad', 'Allahabad', 'Amritsar',\n",
       "       'Aurangabad', 'Bangalore', 'Bhopal', 'Bhubaneshwar', 'Chandigarh',\n",
       "       'Chennai', 'Coimbatore', 'Dehradun', 'Gandhinagar', 'Gangtok',\n",
       "       'Ghaziabad', 'Goa', 'Gurgaon', 'Guwahati', 'Hyderabad', 'Indore',\n",
       "       'Jaipur', 'Kanpur', 'Kochi', 'Kolkata', 'Lucknow', 'Ludhiana',\n",
       "       'Mangalore', 'Mohali', 'Mumbai', 'Mysore', 'Nagpur', 'Nashik',\n",
       "       'Nasik', 'New Delhi', 'Noida', 'Ooty', 'Panchkula', 'Patna',\n",
       "       'Puducherry', 'Pune', 'Ranchi', 'Secunderabad', 'Shimla', 'Surat',\n",
       "       'Thane', 'Vadodara', 'Varanasi', 'Vizag', 'Zirakpur', 'Bogor',\n",
       "       'Jakarta', 'Tangerang', 'Auckland', 'Hamilton', 'Wellington',\n",
       "       'Wellington City', 'Birmingham', 'Edinburgh', 'Glasgow', 'London',\n",
       "       'Manchester', 'Doha', 'Cape Town', 'Clarens', 'Durban',\n",
       "       'East Rand', 'Inner City', 'Johannesburg', 'Johannesburg South',\n",
       "       'Midrand', 'Pretoria', 'Randburg', 'Roodepoort', 'Sandton',\n",
       "       'Colombo', 'Ankara', 'İstanbul'], dtype=object)"
      ]
     },
     "execution_count": 54,
     "metadata": {},
     "output_type": "execute_result"
    }
   ],
   "source": [
    "# todas as cidades\n",
    "df_limpo['City'].unique()"
   ]
  },
  {
   "cell_type": "markdown",
   "id": "eb78c2a8-bb00-4565-9e63-65edd3dbab23",
   "metadata": {},
   "source": [
    "### 1. Qual o nome da cidade que possui mais restaurantes registrados?"
   ]
  },
  {
   "cell_type": "code",
   "execution_count": 27,
   "id": "9a551634-0faa-41a4-9e90-3899379aa2b3",
   "metadata": {},
   "outputs": [
    {
     "data": {
      "text/plain": [
       "City\n",
       "Abu Dhabi    80\n",
       "Name: Restaurant ID, dtype: int64"
      ]
     },
     "execution_count": 27,
     "metadata": {},
     "output_type": "execute_result"
    }
   ],
   "source": [
    "cidade_restaurante = df_limpo.groupby('City')['Restaurant ID'].nunique().sort_values(ascending=False).head(1)\n",
    "cidade_restaurante\n"
   ]
  },
  {
   "cell_type": "markdown",
   "id": "2fd0c391-f9af-46aa-aa5c-b6996190d266",
   "metadata": {},
   "source": [
    "### 2. Qual o nome da cidade que possui mais restaurantes com nota média acima de 4?"
   ]
  },
  {
   "cell_type": "code",
   "execution_count": 28,
   "id": "f9efb870-814d-4831-b5b9-cd13c42899fe",
   "metadata": {},
   "outputs": [
    {
     "data": {
      "text/plain": [
       "City\n",
       "Abu Dhabi    4.25\n",
       "Name: Aggregate rating, dtype: float64"
      ]
     },
     "execution_count": 28,
     "metadata": {},
     "output_type": "execute_result"
    }
   ],
   "source": [
    "cdd_avaliacao = df_limpo.groupby('City')['Aggregate rating'].mean().round(2).head(1)\n",
    "melhor_avaliacao = cdd_avaliacao[cdd_avaliacao > 4]\n",
    "melhor_avaliacao"
   ]
  },
  {
   "cell_type": "markdown",
   "id": "95c67693-205b-4fcf-80f5-8009d35e51f6",
   "metadata": {},
   "source": [
    "### 3. Qual o nome da cidade que possui mais restaurantes com nota média abaixo de 2.5?"
   ]
  },
  {
   "cell_type": "code",
   "execution_count": 29,
   "id": "54a25c99-f4e4-4962-988a-0dbc71f873c7",
   "metadata": {},
   "outputs": [
    {
     "data": {
      "text/plain": [
       "City\n",
       "Gangtok    1.64\n",
       "Ooty       2.45\n",
       "Name: Aggregate rating, dtype: float64"
      ]
     },
     "execution_count": 29,
     "metadata": {},
     "output_type": "execute_result"
    }
   ],
   "source": [
    "cdd_avaliacao_pior = df_limpo.groupby('City')['Aggregate rating'].mean().round(2)\n",
    "pior_avaliacao = cdd_avaliacao_pior[cdd_avaliacao_pior < 2.5]\n",
    "pior_avaliacao"
   ]
  },
  {
   "cell_type": "markdown",
   "id": "88e3c90c-375b-4c2d-a91d-d0209fba9119",
   "metadata": {},
   "source": [
    "### 4. Qual o nome da cidade que possui o maior valor médio de um prato para dois?"
   ]
  },
  {
   "cell_type": "code",
   "execution_count": 30,
   "id": "22d4a63f-0372-4763-ac47-aaa4ed9a5cbc",
   "metadata": {},
   "outputs": [
    {
     "data": {
      "text/plain": [
       "City\n",
       "Adelaide    416734.13\n",
       "Name: Average Cost for two, dtype: float64"
      ]
     },
     "execution_count": 30,
     "metadata": {},
     "output_type": "execute_result"
    }
   ],
   "source": [
    "cdd_avaliacao_p2 = df_limpo.groupby('City')['Average Cost for two'].mean().sort_values(ascending=False).round(2).head(1)\n",
    "cdd_avaliacao_p2"
   ]
  },
  {
   "cell_type": "markdown",
   "id": "cd27462c-d4c2-4299-8ee8-12fd752c0ece",
   "metadata": {},
   "source": [
    "### 5. Qual o nome da cidade que possui a maior quantidade de tipos de culinária distintas?"
   ]
  },
  {
   "cell_type": "code",
   "execution_count": 31,
   "id": "58b8cb46-7548-4dd6-9bdc-7bb938fafd6b",
   "metadata": {},
   "outputs": [
    {
     "data": {
      "text/plain": [
       "City\n",
       "Mangalore    75\n",
       "Name: Cuisines, dtype: int64"
      ]
     },
     "execution_count": 31,
     "metadata": {},
     "output_type": "execute_result"
    }
   ],
   "source": [
    "tipos_culinaria_cdd = df_limpo.groupby('City')['Cuisines'].nunique().sort_values(ascending=False).head(1)\n",
    "tipos_culinaria_cdd"
   ]
  },
  {
   "cell_type": "markdown",
   "id": "d1f8328f-1c51-4da2-9777-765b5c45d214",
   "metadata": {},
   "source": [
    "### 6. Qual o nome da cidade que possui a maior quantidade de restaurantes que fazem reservas?"
   ]
  },
  {
   "cell_type": "code",
   "execution_count": 32,
   "id": "671ef131-8ab3-4324-9c64-b8988e532688",
   "metadata": {},
   "outputs": [
    {
     "data": {
      "text/plain": [
       "City\n",
       "Bangalore    47\n",
       "Name: Has Table booking, dtype: int64"
      ]
     },
     "execution_count": 32,
     "metadata": {},
     "output_type": "execute_result"
    }
   ],
   "source": [
    "rest_c_reserva = df_limpo[df_limpo['Has Table booking'] == 1]\n",
    "cdd_reserva = rest_c_reserva.groupby('City')['Has Table booking'].count().sort_values(ascending=False).head(1)\n",
    "cdd_reserva"
   ]
  },
  {
   "cell_type": "markdown",
   "id": "2c5bb996-6552-462e-9f3d-6a6642a6928c",
   "metadata": {},
   "source": [
    "### 7. Qual o nome da cidade que possui a maior quantidade de restaurantes que fazem entregas?"
   ]
  },
  {
   "cell_type": "code",
   "execution_count": 33,
   "id": "06481114-1c99-4b02-8f66-31db93b6753c",
   "metadata": {},
   "outputs": [
    {
     "data": {
      "text/plain": [
       "City\n",
       "Aurangabad    53\n",
       "Name: count, dtype: int64"
      ]
     },
     "execution_count": 33,
     "metadata": {},
     "output_type": "execute_result"
    }
   ],
   "source": [
    "rest_entrega = df_limpo[df_limpo['Is delivering now'] == 1]\n",
    "cidade_entrega = rest_entrega['City'].value_counts().head(1)\n",
    "cidade_entrega"
   ]
  },
  {
   "cell_type": "markdown",
   "id": "8d075095-17be-474e-8b2c-6d70021edf88",
   "metadata": {},
   "source": [
    "### 8. Qual o nome da cidade que possui a maior quantidade de restaurantes que aceitam pedidos online?\n"
   ]
  },
  {
   "cell_type": "code",
   "execution_count": 34,
   "id": "6e89d18a-beed-46cc-8f3d-1c14b88aaea5",
   "metadata": {},
   "outputs": [
    {
     "data": {
      "text/plain": [
       "City\n",
       "Abu Dhabi    86\n",
       "Name: count, dtype: int64"
      ]
     },
     "execution_count": 34,
     "metadata": {},
     "output_type": "execute_result"
    }
   ],
   "source": [
    "rest_online = df_limpo[df_limpo['Has Online delivery'] == 1]\n",
    "rest_online_cdd = rest_online['City'].value_counts().head(1)\n",
    "rest_online_cdd"
   ]
  },
  {
   "cell_type": "markdown",
   "id": "a8eb21e5-7855-4632-812a-dbd9e61146c2",
   "metadata": {},
   "source": [
    "# RESTAURANTES"
   ]
  },
  {
   "cell_type": "code",
   "execution_count": 55,
   "id": "5a177483-226c-41ba-922b-f0fcc5b197ea",
   "metadata": {},
   "outputs": [
    {
     "data": {
      "text/plain": [
       "5914"
      ]
     },
     "execution_count": 55,
     "metadata": {},
     "output_type": "execute_result"
    }
   ],
   "source": [
    "df_limpo['Restaurant Name'].nunique()"
   ]
  },
  {
   "cell_type": "markdown",
   "id": "612ee6bc-5991-4848-9e1e-a36955e8ef8c",
   "metadata": {},
   "source": [
    "### 1. Qual o nome do restaurante que possui a maior quantidade de avaliações?"
   ]
  },
  {
   "cell_type": "code",
   "execution_count": 35,
   "id": "c64969f9-acf3-4cb8-9687-99b7fcf08a55",
   "metadata": {},
   "outputs": [
    {
     "data": {
      "text/plain": [
       "Restaurant Name\n",
       "Domino's Pizza    204\n",
       "Name: Aggregate rating, dtype: int64"
      ]
     },
     "execution_count": 35,
     "metadata": {},
     "output_type": "execute_result"
    }
   ],
   "source": [
    "rest_qnt_avaliacao = df_limpo.groupby('Restaurant Name')['Aggregate rating'].count().sort_values(ascending=False).head(1)\n",
    "rest_qnt_avaliacao"
   ]
  },
  {
   "cell_type": "markdown",
   "id": "54e3d3a3-4bfe-47ea-a403-fd97217b2552",
   "metadata": {},
   "source": [
    "### 2. Qual o nome do restaurante com a maior nota média?"
   ]
  },
  {
   "cell_type": "code",
   "execution_count": 36,
   "id": "bce998a2-44d3-4cbb-bc83-02598cdc7f87",
   "metadata": {},
   "outputs": [
    {
     "data": {
      "text/plain": [
       "Restaurant Name\n",
       "Earl of Sandwich    4.9\n",
       "Name: Aggregate rating, dtype: float64"
      ]
     },
     "execution_count": 36,
     "metadata": {},
     "output_type": "execute_result"
    }
   ],
   "source": [
    "rest_melhor = df_limpo.groupby('Restaurant Name')['Aggregate rating'].mean().sort_values(ascending=False).head(1)\n",
    "rest_melhor"
   ]
  },
  {
   "cell_type": "markdown",
   "id": "618ecf78-08ba-46bc-ac31-d931a77affd9",
   "metadata": {},
   "source": [
    "### 3. Qual o nome do restaurante que possui o maior valor de uma prato para duas pessoas?"
   ]
  },
  {
   "cell_type": "code",
   "execution_count": 37,
   "id": "ff02b9a8-e5d9-4faf-9df4-072b5573a0e1",
   "metadata": {},
   "outputs": [
    {
     "data": {
      "text/plain": [
       "Restaurant Name\n",
       "d'Arry's Verandah Restaurant    25000017\n",
       "Name: Average Cost for two, dtype: int64"
      ]
     },
     "execution_count": 37,
     "metadata": {},
     "output_type": "execute_result"
    }
   ],
   "source": [
    "prato_caro = df_limpo.groupby('Restaurant Name')['Average Cost for two'].max().sort_values(ascending=False).head(1)\n",
    "prato_caro"
   ]
  },
  {
   "cell_type": "markdown",
   "id": "f9bd411d-73b0-4254-b59c-5e9155f79163",
   "metadata": {},
   "source": [
    "### 4. Qual o nome do restaurante de tipo de culinária brasileira que possui a menor média de avaliação?\n"
   ]
  },
  {
   "cell_type": "code",
   "execution_count": 38,
   "id": "6d8e12c0-0119-4226-b62b-a0fbfe421b04",
   "metadata": {},
   "outputs": [
    {
     "data": {
      "text/plain": [
       "Restaurant Name\n",
       "Rancho Inn    0.0\n",
       "Name: Aggregate rating, dtype: float64"
      ]
     },
     "execution_count": 38,
     "metadata": {},
     "output_type": "execute_result"
    }
   ],
   "source": [
    "comida_br = df_limpo[df_limpo['Cuisines'] == \"Brazilian\"]\n",
    "comida_br_ruim = comida_br.groupby('Restaurant Name')['Aggregate rating'].mean().sort_values(ascending=True).head(1)\n",
    "comida_br_ruim"
   ]
  },
  {
   "cell_type": "markdown",
   "id": "031b656f-9603-40da-88c1-816d3f61259f",
   "metadata": {},
   "source": [
    "### 5. Qual o nome do restaurante de tipo de culinária brasileira, e que é do Brasil, que possui a maior média de avaliação?"
   ]
  },
  {
   "cell_type": "code",
   "execution_count": 39,
   "id": "5ee958e6-2bb0-4a61-8973-1a4881fea781",
   "metadata": {},
   "outputs": [
    {
     "data": {
      "text/plain": [
       "Restaurant Name\n",
       "Aprazível    4.9\n",
       "Name: Aggregate rating, dtype: float64"
      ]
     },
     "execution_count": 39,
     "metadata": {},
     "output_type": "execute_result"
    }
   ],
   "source": [
    "comida_br_doBR = df_limpo[(df_limpo['Cuisines'] == \"Brazilian\") & (df_limpo['Country'] == \"Brazil\")]\n",
    "comida_br_melhor = comida_br_doBR.groupby('Restaurant Name')['Aggregate rating'].mean().sort_values(ascending=False).head(1)\n",
    "comida_br_melhor"
   ]
  },
  {
   "cell_type": "markdown",
   "id": "cabe02cc-ceb4-43f1-be11-993b3c367c1c",
   "metadata": {},
   "source": [
    "### 6. Os restaurantes que aceitam pedido online são também, na média, os restaurantes que mais possuem avaliações registradas?"
   ]
  },
  {
   "cell_type": "code",
   "execution_count": 40,
   "id": "a4faa8ae-44ba-4cc6-9b96-60b13b771e22",
   "metadata": {},
   "outputs": [
    {
     "name": "stdout",
     "output_type": "stream",
     "text": [
      "A média de restaurantes que aceitam pedidos online: 4.11\n",
      "A média de restaurantes que não aceitam pedidos online: 4.12\n",
      "NÃO, restaurantes com entrega online NÃO têm melhores avaliações em média\n"
     ]
    }
   ],
   "source": [
    "# Pedidos online\n",
    "pedido_online = df_limpo[df_limpo['Has Online delivery'] == 1]\n",
    "restaurante_online = pedido_online['Aggregate rating'].mean()\n",
    "\n",
    "# Pedidos não online\n",
    "pedido_n_online = df_limpo[df_limpo['Has Online delivery'] == 0]\n",
    "restaurante_n_online = pedido_n_online['Aggregate rating'].mean()\n",
    "\n",
    "# Comparaçao\n",
    "print(f\"A média de restaurantes que aceitam pedidos online: {restaurante_online:.2f}\")\n",
    "print(f'A média de restaurantes que não aceitam pedidos online: {restaurante_n_online:.2f}')\n",
    "\n",
    "if restaurante_online > restaurante_n_online:\n",
    "    print('SIM, restaurantes com entrega online têm melhores avaliações em média')\n",
    "else:\n",
    "    print('NÃO, restaurantes com entrega online NÃO têm melhores avaliações em média')"
   ]
  },
  {
   "cell_type": "markdown",
   "id": "a08b0978-fe4f-48c9-bb8f-28a52735f371",
   "metadata": {},
   "source": [
    "### 7. Os restaurantes que fazem reservas são também, na média, os restaurantes que possuem o maior valor médio de um prato para duas pessoas?"
   ]
  },
  {
   "cell_type": "code",
   "execution_count": 41,
   "id": "e7e05ec5-74be-411a-aeaa-9905b2fc8985",
   "metadata": {},
   "outputs": [
    {
     "name": "stdout",
     "output_type": "stream",
     "text": [
      "A média de preço de pratos para dois COM reserva é: 62931.51\n",
      "A média de preço de pratos para dois SEM reserva é: 62931.51\n",
      "Restaurantes COM reserva: 468\n",
      "Restaurantes SEM reserva: 7059\n",
      "SIM, os restaurantes que tem reserva tem pratos para dois mais caros\n"
     ]
    }
   ],
   "source": [
    "rest_reserva = df_limpo[df_limpo['Has Table booking'] == 1]\n",
    "rest_reserva_mean = rest_reserva['Average Cost for two'].mean()\n",
    "print(f'A média de preço de pratos para dois COM reserva é: {rest_reserva_mean:.2f}')\n",
    "\n",
    "rest_s_reserva = df_limpo[df_limpo['Has Table booking'] == 0]\n",
    "rest_s_reserva_mean = rest_s_reserva['Average Cost for two'].mean()\n",
    "print(f'A média de preço de pratos para dois SEM reserva é: {rest_reserva_mean:.2f}')\n",
    "\n",
    "print(\"Restaurantes COM reserva:\", len(rest_reserva))\n",
    "print(\"Restaurantes SEM reserva:\", len(rest_s_reserva))\n",
    "\n",
    "if rest_reserva_mean > rest_s_reserva_mean:\n",
    "    print('SIM, os restaurantes que tem reserva tem pratos para dois mais caros')\n",
    "elif rest_reserva_mean < rest_s_reserva_mean: \n",
    "    print('NÃO, os restaurantes que tem reserva não tem pratos para dois mais caros')\n",
    "else:\n",
    "    print('EMPATE, os preços médios são IGUAIS')"
   ]
  },
  {
   "cell_type": "markdown",
   "id": "4d691a9d-33b7-4980-9117-bd3184d05906",
   "metadata": {},
   "source": [
    "### 8. Os restaurantes do tipo de culinária japonesa dos Estados Unidos da América possuem um valor médio de prato para duas pessoas maior que as churrascarias americanas (BBQ)?"
   ]
  },
  {
   "cell_type": "code",
   "execution_count": 42,
   "id": "31fd0bba-6719-467c-a0d1-62d52ba2a57a",
   "metadata": {},
   "outputs": [
    {
     "name": "stdout",
     "output_type": "stream",
     "text": [
      "Média de preços de restaurantes de comida japonesa nos EUA: 40.00\n",
      "Média de preços de churrascaria nos EUA: 39.71\n",
      "Comida japonesa tem preço maior que churrascaria em pratos que servem duas pessoas\n"
     ]
    }
   ],
   "source": [
    "comida_japan_eua = df_limpo[(df_limpo['Cuisines'] == \"Japanese\") & (df_limpo['Country'] == \"United States\")]\n",
    "comida_japan_eua_mean = comida_japan_eua['Average Cost for two'].mean()\n",
    "print(f'Média de preços de restaurantes de comida japonesa nos EUA: {comida_japan_eua_mean:.2f}')\n",
    "\n",
    "churras_eua = df_limpo[(df_limpo['Cuisines'] == \"BBQ\") & (df_limpo['Country'] == \"United States\")]\n",
    "churras_eua_mean = churras_eua['Average Cost for two'].mean()\n",
    "print(f'Média de preços de churrascaria nos EUA: {churras_eua_mean:.2f}')\n",
    "\n",
    "if comida_japan_eua_mean == churras_eua_mean:\n",
    "    print('Não há diiferença de valor para pratos que servem duas pessoas')\n",
    "elif comida_japan_eua_mean > churras_eua_mean:\n",
    "    print('Comida japonesa tem preço maior que churrascaria em pratos que servem duas pessoas')\n",
    "else:\n",
    "    print('A churrascaria tem preço maior que a comida japonesa para pratos que servem duas pessoas')"
   ]
  },
  {
   "cell_type": "markdown",
   "id": "4d468893-64eb-4774-a4af-a9d0c43fb133",
   "metadata": {},
   "source": [
    "# Tipos de Culinária"
   ]
  },
  {
   "cell_type": "markdown",
   "id": "78ec8767-a678-4271-a8cd-753175a2d7df",
   "metadata": {},
   "source": [
    "### 1. Dos restaurantes que possuem o tipo de culinária italiana, qual o nome do restaurante com a maior média de avaliação?"
   ]
  },
  {
   "cell_type": "code",
   "execution_count": 43,
   "id": "8a19e19d-d8e5-40c7-a344-205a2fb70278",
   "metadata": {},
   "outputs": [
    {
     "data": {
      "text/plain": [
       "Restaurant Name\n",
       "Bottega Louie    4.9\n",
       "Name: Aggregate rating, dtype: float64"
      ]
     },
     "execution_count": 43,
     "metadata": {},
     "output_type": "execute_result"
    }
   ],
   "source": [
    "comida_italian = df_limpo[df_limpo['Cuisines'] == 'Italian']\n",
    "comida_italian_melhor = comida_italian.groupby('Restaurant Name')['Aggregate rating'].mean().sort_values(ascending=False).head(1)\n",
    "comida_italian_melhor"
   ]
  },
  {
   "cell_type": "markdown",
   "id": "f23a0278-41d5-4958-a786-6fc5b476136e",
   "metadata": {},
   "source": [
    "### 2. Dos restaurantes que possuem o tipo de culinária italiana, qual o nome do restaurante com a menor média de avaliação?"
   ]
  },
  {
   "cell_type": "code",
   "execution_count": 44,
   "id": "c777a250-ba9c-45a9-9ab5-f43e1a133bf1",
   "metadata": {},
   "outputs": [
    {
     "data": {
      "text/plain": [
       "Restaurant Name\n",
       "La Bocca Bar e Trattoria    0.0\n",
       "Name: Aggregate rating, dtype: float64"
      ]
     },
     "execution_count": 44,
     "metadata": {},
     "output_type": "execute_result"
    }
   ],
   "source": [
    "comida_italian_pior = comida_italian.groupby('Restaurant Name')['Aggregate rating'].mean().sort_values(ascending=True).head(1)\n",
    "comida_italian_pior"
   ]
  },
  {
   "cell_type": "markdown",
   "id": "3ed58caf-8adc-4f99-b024-15770a3d7a97",
   "metadata": {},
   "source": [
    "### 3. Dos restaurantes que possuem o tipo de culinária americana, qual o nome do restaurante com a maior média de avaliação?"
   ]
  },
  {
   "cell_type": "code",
   "execution_count": 45,
   "id": "fa023f74-31be-4fd8-8e7d-968f6bca8fc6",
   "metadata": {},
   "outputs": [
    {
     "data": {
      "text/plain": [
       "Restaurant Name\n",
       "S'MAC    4.9\n",
       "Name: Aggregate rating, dtype: float64"
      ]
     },
     "execution_count": 45,
     "metadata": {},
     "output_type": "execute_result"
    }
   ],
   "source": [
    "comida_eua = df_limpo[df_limpo['Cuisines'] == 'American']\n",
    "comida_eua_melhor = comida_eua.groupby('Restaurant Name')['Aggregate rating'].mean().sort_values(ascending=False).head(1)\n",
    "comida_eua_melhor"
   ]
  },
  {
   "cell_type": "markdown",
   "id": "ca393e9a-f613-4138-836b-f48814828c50",
   "metadata": {},
   "source": [
    "### 4. Dos restaurantes que possuem o tipo de culinária americana, qual o nome do restaurante com a menor média de avaliação?"
   ]
  },
  {
   "cell_type": "code",
   "execution_count": 46,
   "id": "936b4173-9d5e-4592-ac81-5173b511ebb4",
   "metadata": {},
   "outputs": [
    {
     "data": {
      "text/plain": [
       "Restaurant Name\n",
       "Alston Bar & Beef    0.0\n",
       "Name: Aggregate rating, dtype: float64"
      ]
     },
     "execution_count": 46,
     "metadata": {},
     "output_type": "execute_result"
    }
   ],
   "source": [
    "comida_eua_pior = comida_eua.groupby('Restaurant Name')['Aggregate rating'].mean().sort_values(ascending=True).head(1)\n",
    "comida_eua_pior"
   ]
  },
  {
   "cell_type": "markdown",
   "id": "e49d4e55-c268-4593-8a4d-c49638f80118",
   "metadata": {},
   "source": [
    "### 5. Dos restaurantes que possuem o tipo de culinária árabe, qual o nome do restaurante com a maior média de avaliação?"
   ]
  },
  {
   "cell_type": "code",
   "execution_count": 47,
   "id": "594aa2f6-508b-4d87-8c12-f5ac86957878",
   "metadata": {},
   "outputs": [
    {
     "data": {
      "text/plain": [
       "Restaurant Name\n",
       "Gioi    4.8\n",
       "Name: Aggregate rating, dtype: float64"
      ]
     },
     "execution_count": 47,
     "metadata": {},
     "output_type": "execute_result"
    }
   ],
   "source": [
    "comida_arabic = df_limpo[df_limpo['Cuisines'] == 'Asian']\n",
    "comida_arabic_melhor = comida_arabic.groupby('Restaurant Name')['Aggregate rating'].mean().sort_values(ascending=False).head(1)\n",
    "comida_arabic_melhor"
   ]
  },
  {
   "cell_type": "markdown",
   "id": "c855ea83-a1f8-4263-b8ad-f504ddf75f66",
   "metadata": {},
   "source": [
    "### 6. Dos restaurantes que possuem o tipo de culinária árabe, qual o nome do restaurante com a menor média de avaliação?"
   ]
  },
  {
   "cell_type": "code",
   "execution_count": 48,
   "id": "fec88e9a-9a53-4d79-bc8b-9c580690368f",
   "metadata": {},
   "outputs": [
    {
     "data": {
      "text/plain": [
       "Restaurant Name\n",
       "wagamama    3.6\n",
       "Name: Aggregate rating, dtype: float64"
      ]
     },
     "execution_count": 48,
     "metadata": {},
     "output_type": "execute_result"
    }
   ],
   "source": [
    "comida_arabic_pior = comida_arabic.groupby('Restaurant Name')['Aggregate rating'].mean().sort_values(ascending=True).head(1)\n",
    "comida_arabic_pior"
   ]
  },
  {
   "cell_type": "markdown",
   "id": "7f917645-58e9-4253-b974-9959fcc1cb6a",
   "metadata": {},
   "source": [
    "### 7. Dos restaurantes que possuem o tipo de culinária japonesa, qual o nome do restaurante com a maior média de avaliação?\n"
   ]
  },
  {
   "cell_type": "code",
   "execution_count": 49,
   "id": "bdad5442-ea91-48b2-a4ad-55f42f59f5e4",
   "metadata": {},
   "outputs": [
    {
     "ename": "NameError",
     "evalue": "name 'comida_japan' is not defined",
     "output_type": "error",
     "traceback": [
      "\u001b[1;31m---------------------------------------------------------------------------\u001b[0m",
      "\u001b[1;31mNameError\u001b[0m                                 Traceback (most recent call last)",
      "Cell \u001b[1;32mIn[49], line 1\u001b[0m\n\u001b[1;32m----> 1\u001b[0m melhor_japan \u001b[38;5;241m=\u001b[39m \u001b[43mcomida_japan\u001b[49m\u001b[38;5;241m.\u001b[39mgroupby(\u001b[38;5;124m'\u001b[39m\u001b[38;5;124mRestaurant Name\u001b[39m\u001b[38;5;124m'\u001b[39m)[\u001b[38;5;124m'\u001b[39m\u001b[38;5;124mAggregate rating\u001b[39m\u001b[38;5;124m'\u001b[39m]\u001b[38;5;241m.\u001b[39mmean()\u001b[38;5;241m.\u001b[39msort_values(ascending\u001b[38;5;241m=\u001b[39m\u001b[38;5;28;01mFalse\u001b[39;00m)\u001b[38;5;241m.\u001b[39mhead(\u001b[38;5;241m1\u001b[39m)\n\u001b[0;32m      2\u001b[0m melhor_japan\n",
      "\u001b[1;31mNameError\u001b[0m: name 'comida_japan' is not defined"
     ]
    }
   ],
   "source": [
    "melhor_japan = comida_japan.groupby('Restaurant Name')['Aggregate rating'].mean().sort_values(ascending=False).head(1)\n",
    "melhor_japan"
   ]
  },
  {
   "cell_type": "markdown",
   "id": "a3586315-5792-46e5-be11-fd3472a7805f",
   "metadata": {},
   "source": [
    "### 8. Dos restaurantes que possuem o tipo de culinária japonesa, qual o nome do restaurante com a menor média de avaliação?"
   ]
  },
  {
   "cell_type": "code",
   "execution_count": null,
   "id": "c06980eb-a14b-4660-90b0-7c166461ee48",
   "metadata": {},
   "outputs": [],
   "source": [
    "pior_japan = comida_japan.groupby('Restaurant Name')['Aggregate rating'].mean().sort_values(ascending=True).head(1)\n",
    "pior_japan"
   ]
  },
  {
   "cell_type": "markdown",
   "id": "5720a228-0333-4260-91ac-af86dcd51ac4",
   "metadata": {},
   "source": [
    "### 9. Dos restaurantes que possuem o tipo de culinária caseira, qual o nome do restaurante com a maior média de avaliação?\n"
   ]
  },
  {
   "cell_type": "code",
   "execution_count": null,
   "id": "a82fb051-2c9b-42bd-88cb-579043990b3a",
   "metadata": {},
   "outputs": [],
   "source": [
    "comida_caseira = df_limpo[df_limpo['Cuisines'] == 'Home-made']\n",
    "melhor_caseira = comida_caseira.groupby('Restaurant Name')['Aggregate rating'].mean().sort_values(ascending=False).head(1)\n",
    "melhor_caseira"
   ]
  },
  {
   "cell_type": "markdown",
   "id": "a18737dc-af46-4287-85d1-48a91f76d592",
   "metadata": {},
   "source": [
    "### 10. Dos restaurantes que possuem o tipo de culinária caseira, qual o nome do restaurante com a menor média de avaliação?"
   ]
  },
  {
   "cell_type": "code",
   "execution_count": 50,
   "id": "223b2fa3-ce7a-48c7-a3eb-e7a82b33c5f4",
   "metadata": {},
   "outputs": [
    {
     "data": {
      "text/plain": [
       "Restaurant Name\n",
       "GurMekan Restaurant    3.7\n",
       "Name: Aggregate rating, dtype: float64"
      ]
     },
     "execution_count": 50,
     "metadata": {},
     "output_type": "execute_result"
    }
   ],
   "source": [
    "comida_caseira = df_limpo[df_limpo['Cuisines'] == 'Home-made']\n",
    "pior_caseira = comida_caseira.groupby('Restaurant Name')['Aggregate rating'].mean().sort_values(ascending=True).head(1)\n",
    "pior_caseira"
   ]
  },
  {
   "cell_type": "markdown",
   "id": "9693ac5c-d729-45b4-9e61-d323aabe584d",
   "metadata": {},
   "source": [
    "### 11. Qual o tipo de culinária que possui o maior valor médio de um prato para duas pessoas?\n"
   ]
  },
  {
   "cell_type": "code",
   "execution_count": 51,
   "id": "d864b07a-2c08-4690-a106-74ac23a19382",
   "metadata": {},
   "outputs": [
    {
     "data": {
      "text/plain": [
       "Cuisines\n",
       "Modern Australian, Australian    25000017.0\n",
       "Name: Average Cost for two, dtype: float64"
      ]
     },
     "execution_count": 51,
     "metadata": {},
     "output_type": "execute_result"
    }
   ],
   "source": [
    "melhor_culinaria_p2 = df_limpo.groupby('Cuisines')['Average Cost for two'].mean().sort_values(ascending=False).head(1)\n",
    "melhor_culinaria_p2"
   ]
  },
  {
   "cell_type": "markdown",
   "id": "01eb3e1d-a024-4233-bc89-e56501d7b330",
   "metadata": {},
   "source": [
    "### 12. Qual o tipo de culinária que possui a maior nota média?"
   ]
  },
  {
   "cell_type": "code",
   "execution_count": 52,
   "id": "ae873a8b-46a2-4415-b98d-154efcad5d4c",
   "metadata": {},
   "outputs": [
    {
     "data": {
      "text/plain": [
       "Cuisines\n",
       "Chinese, Fusion, Asian    4.9\n",
       "Name: Aggregate rating, dtype: float64"
      ]
     },
     "execution_count": 52,
     "metadata": {},
     "output_type": "execute_result"
    }
   ],
   "source": [
    "melhor_culinaria = df_limpo.groupby('Cuisines')['Aggregate rating'].mean().sort_values(ascending=False).head(1)\n",
    "melhor_culinaria"
   ]
  },
  {
   "cell_type": "markdown",
   "id": "87d645d1-000c-4b50-b985-5af50f2acc2a",
   "metadata": {},
   "source": [
    "### 13. Qual o tipo de culinária que possui mais restaurantes que aceitam pedidos online e fazem entregas?"
   ]
  },
  {
   "cell_type": "code",
   "execution_count": 53,
   "id": "69cbdee1-9c21-4adc-abd3-abc8e99b32d9",
   "metadata": {},
   "outputs": [
    {
     "data": {
      "text/plain": [
       "Cuisines\n",
       "Pizza, Italian, Fast Food, Beverages, Desserts    6\n",
       "Name: count, dtype: int64"
      ]
     },
     "execution_count": 53,
     "metadata": {},
     "output_type": "execute_result"
    }
   ],
   "source": [
    "rest_online_entrega = df_limpo[(df_limpo['Has Online delivery'] == 1) & (df_limpo['Has Table booking'] == 1)]\n",
    "\n",
    "culinaria_online_rest = rest_online_entrega['Cuisines'].value_counts().head(1)\n",
    "culinaria_online_rest"
   ]
  },
  {
   "cell_type": "code",
   "execution_count": null,
   "id": "9c710372-be03-483a-8fdd-f3ddb4f51338",
   "metadata": {},
   "outputs": [],
   "source": []
  },
  {
   "cell_type": "code",
   "execution_count": null,
   "id": "2e25e58d-8c5d-40b3-84cc-44ce5088685d",
   "metadata": {},
   "outputs": [],
   "source": []
  },
  {
   "cell_type": "code",
   "execution_count": null,
   "id": "6b5341bd-b60f-4adc-a845-bdb0c4438f1c",
   "metadata": {},
   "outputs": [],
   "source": []
  },
  {
   "cell_type": "code",
   "execution_count": null,
   "id": "fc3df0de-a603-46bc-821c-d96233bb810c",
   "metadata": {},
   "outputs": [],
   "source": []
  },
  {
   "cell_type": "code",
   "execution_count": null,
   "id": "bbbf5bcf-b6e9-4d97-b6e3-a94de3a102a5",
   "metadata": {},
   "outputs": [],
   "source": []
  },
  {
   "cell_type": "code",
   "execution_count": null,
   "id": "8f33662c-48c8-45d5-a675-775c591bf0c3",
   "metadata": {},
   "outputs": [],
   "source": []
  },
  {
   "cell_type": "code",
   "execution_count": null,
   "id": "7ac7753a-26a2-4de2-9e72-13418cc31d26",
   "metadata": {},
   "outputs": [],
   "source": []
  }
 ],
 "metadata": {
  "kernelspec": {
   "display_name": "Python 3 (ipykernel)",
   "language": "python",
   "name": "python3"
  },
  "language_info": {
   "codemirror_mode": {
    "name": "ipython",
    "version": 3
   },
   "file_extension": ".py",
   "mimetype": "text/x-python",
   "name": "python",
   "nbconvert_exporter": "python",
   "pygments_lexer": "ipython3",
   "version": "3.12.5"
  }
 },
 "nbformat": 4,
 "nbformat_minor": 5
}
